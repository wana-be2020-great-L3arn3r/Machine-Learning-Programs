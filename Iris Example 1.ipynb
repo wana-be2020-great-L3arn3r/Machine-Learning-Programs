{
 "cells": [
  {
   "cell_type": "code",
   "execution_count": 5,
   "id": "b7a82168-bd3b-4215-8147-45754c928f6e",
   "metadata": {},
   "outputs": [
    {
     "name": "stdout",
     "output_type": "stream",
     "text": [
      "     sepal_length  sepal_width  petal_length  petal_width           class\n",
      "0             5.1          3.5           1.4          0.2     Iris-setosa\n",
      "1             4.9          3.0           1.4          0.2     Iris-setosa\n",
      "2             4.7          3.2           1.3          0.2     Iris-setosa\n",
      "3             4.6          3.1           1.5          0.2     Iris-setosa\n",
      "4             5.0          3.6           1.4          0.2     Iris-setosa\n",
      "..            ...          ...           ...          ...             ...\n",
      "145           6.7          3.0           5.2          2.3  Iris-virginica\n",
      "146           6.3          2.5           5.0          1.9  Iris-virginica\n",
      "147           6.5          3.0           5.2          2.0  Iris-virginica\n",
      "148           6.2          3.4           5.4          2.3  Iris-virginica\n",
      "149           5.9          3.0           5.1          1.8  Iris-virginica\n",
      "\n",
      "[150 rows x 5 columns]\n"
     ]
    }
   ],
   "source": [
    "import pandas as pd\n",
    "\n",
    "# Define column names\n",
    "columns = ['sepal_length', 'sepal_width', 'petal_length', 'petal_width', 'class']\n",
    "\n",
    "# Load the dataset from UCI URL\n",
    "url = \"https://archive.ics.uci.edu/ml/machine-learning-databases/iris/iris.data\"\n",
    "df = pd.read_csv(url, names=columns)\n",
    "print(df)\n",
    "\n"
   ]
  },
  {
   "cell_type": "code",
   "execution_count": 6,
   "id": "2cf1750d-1a64-41ef-ad20-14b3aa37bbde",
   "metadata": {},
   "outputs": [
    {
     "name": "stdout",
     "output_type": "stream",
     "text": [
      "Mean:\n",
      " sepal_length    5.843333\n",
      "sepal_width     3.054000\n",
      "petal_length    3.758667\n",
      "petal_width     1.198667\n",
      "dtype: float64\n",
      "\n",
      "Standard Deviation:\n",
      " sepal_length    0.828066\n",
      "sepal_width     0.433594\n",
      "petal_length    1.764420\n",
      "petal_width     0.763161\n",
      "dtype: float64\n",
      "\n",
      "Median:\n",
      " sepal_length    5.80\n",
      "sepal_width     3.00\n",
      "petal_length    4.35\n",
      "petal_width     1.30\n",
      "dtype: float64\n",
      "\n",
      "Grouped statistics:\n",
      "                 sepal_length                  sepal_width                   \\\n",
      "                        mean       std median        mean       std median   \n",
      "class                                                                        \n",
      "Iris-setosa            5.006  0.352490    5.0       3.418  0.381024    3.4   \n",
      "Iris-versicolor        5.936  0.516171    5.9       2.770  0.313798    2.8   \n",
      "Iris-virginica         6.588  0.635880    6.5       2.974  0.322497    3.0   \n",
      "\n",
      "                petal_length                  petal_width                   \n",
      "                        mean       std median        mean       std median  \n",
      "class                                                                       \n",
      "Iris-setosa            1.464  0.173511   1.50       0.244  0.107210    0.2  \n",
      "Iris-versicolor        4.260  0.469911   4.35       1.326  0.197753    1.3  \n",
      "Iris-virginica         5.552  0.551895   5.55       2.026  0.274650    2.0  \n"
     ]
    }
   ],
   "source": [
    "# Overall stats\n",
    "print(\"Mean:\\n\", df.mean(numeric_only=True))\n",
    "print(\"\\nStandard Deviation:\\n\", df.std(numeric_only=True))\n",
    "print(\"\\nMedian:\\n\", df.median(numeric_only=True))\n",
    "\n",
    "# Grouped by class\n",
    "grouped_stats = df.groupby('class').agg(['mean', 'std', 'median'])\n",
    "print(\"\\nGrouped statistics:\\n\", grouped_stats)\n"
   ]
  },
  {
   "cell_type": "code",
   "execution_count": 7,
   "id": "0ff9cda5-528c-4ff2-bc8b-4c64403b96e3",
   "metadata": {},
   "outputs": [
    {
     "name": "stdout",
     "output_type": "stream",
     "text": [
      "\n",
      "Iris-versicolor data:\n",
      "     sepal_length  sepal_width  petal_length  petal_width            class\n",
      "50           7.0          3.2           4.7          1.4  Iris-versicolor\n",
      "51           6.4          3.2           4.5          1.5  Iris-versicolor\n",
      "52           6.9          3.1           4.9          1.5  Iris-versicolor\n",
      "53           5.5          2.3           4.0          1.3  Iris-versicolor\n",
      "54           6.5          2.8           4.6          1.5  Iris-versicolor\n",
      "\n",
      "Flowers with sepal length > 6.0:\n",
      "     sepal_length  sepal_width  petal_length  petal_width            class\n",
      "50           7.0          3.2           4.7          1.4  Iris-versicolor\n",
      "51           6.4          3.2           4.5          1.5  Iris-versicolor\n",
      "52           6.9          3.1           4.9          1.5  Iris-versicolor\n",
      "54           6.5          2.8           4.6          1.5  Iris-versicolor\n",
      "56           6.3          3.3           4.7          1.6  Iris-versicolor\n"
     ]
    }
   ],
   "source": [
    "# Data for 'Iris-versicolor'\n",
    "versicolor_df = df[df['class'] == 'Iris-versicolor']\n",
    "print(\"\\nIris-versicolor data:\\n\", versicolor_df.head())\n",
    "\n",
    "# Flowers with sepal length > 6.0 cm\n",
    "long_sepal_df = df[df['sepal_length'] > 6.0]\n",
    "print(\"\\nFlowers with sepal length > 6.0:\\n\", long_sepal_df.head())\n"
   ]
  },
  {
   "cell_type": "code",
   "execution_count": 8,
   "id": "8a427890-20c6-4a0a-87fe-5fbfd62a6e63",
   "metadata": {},
   "outputs": [
    {
     "name": "stdout",
     "output_type": "stream",
     "text": [
      "\n",
      "Range of sepal lengths: 3.6000000000000005\n"
     ]
    }
   ],
   "source": [
    "import numpy as np\n",
    "\n",
    "# Convert sepal_length to NumPy array\n",
    "sepal_lengths = df['sepal_length'].to_numpy()\n",
    "\n",
    "# Calculate range\n",
    "sepal_range = np.max(sepal_lengths) - np.min(sepal_lengths)\n",
    "print(f\"\\nRange of sepal lengths: {sepal_range}\")\n"
   ]
  },
  {
   "cell_type": "code",
   "execution_count": 9,
   "id": "1b3989f5-3668-4c8f-a1e4-98214f097454",
   "metadata": {},
   "outputs": [
    {
     "ename": "ModuleNotFoundError",
     "evalue": "No module named 'seaborn'",
     "output_type": "error",
     "traceback": [
      "\u001b[1;31m---------------------------------------------------------------------------\u001b[0m",
      "\u001b[1;31mModuleNotFoundError\u001b[0m                       Traceback (most recent call last)",
      "Cell \u001b[1;32mIn[9], line 1\u001b[0m\n\u001b[1;32m----> 1\u001b[0m \u001b[38;5;28;01mimport\u001b[39;00m \u001b[38;5;21;01mseaborn\u001b[39;00m \u001b[38;5;28;01mas\u001b[39;00m \u001b[38;5;21;01msns\u001b[39;00m\n\u001b[0;32m      2\u001b[0m \u001b[38;5;28;01mimport\u001b[39;00m \u001b[38;5;21;01mmatplotlib\u001b[39;00m\u001b[38;5;21;01m.\u001b[39;00m\u001b[38;5;21;01mpyplot\u001b[39;00m \u001b[38;5;28;01mas\u001b[39;00m \u001b[38;5;21;01mplt\u001b[39;00m\n\u001b[0;32m      4\u001b[0m \u001b[38;5;66;03m# Scatter plot: sepal length vs. sepal width, colored by class\u001b[39;00m\n",
      "\u001b[1;31mModuleNotFoundError\u001b[0m: No module named 'seaborn'"
     ]
    }
   ],
   "source": [
    "import seaborn as sns\n",
    "import matplotlib.pyplot as plt\n",
    "\n",
    "# Scatter plot: sepal length vs. sepal width, colored by class\n",
    "plt.figure(figsize=(8, 5))\n",
    "sns.scatterplot(data=df, x='sepal_length', y='sepal_width', hue='class')\n",
    "plt.title('Sepal Length vs. Width by Iris Species')\n",
    "plt.xlabel('Sepal Length (cm)')\n",
    "plt.ylabel('Sepal Width (cm)')\n",
    "plt.legend(title='Species')\n",
    "plt.show()\n"
   ]
  },
  {
   "cell_type": "code",
   "execution_count": null,
   "id": "0e3b2dba-5dad-4c15-9746-dc8ff9f8407e",
   "metadata": {},
   "outputs": [],
   "source": []
  }
 ],
 "metadata": {
  "kernelspec": {
   "display_name": "Python 3 (ipykernel)",
   "language": "python",
   "name": "python3"
  },
  "language_info": {
   "codemirror_mode": {
    "name": "ipython",
    "version": 3
   },
   "file_extension": ".py",
   "mimetype": "text/x-python",
   "name": "python",
   "nbconvert_exporter": "python",
   "pygments_lexer": "ipython3",
   "version": "3.12.4"
  }
 },
 "nbformat": 4,
 "nbformat_minor": 5
}
