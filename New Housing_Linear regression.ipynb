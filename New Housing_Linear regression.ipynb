{
 "cells": [
  {
   "cell_type": "markdown",
   "id": "22490dcc-9f9e-4f73-9cce-8c7f33302864",
   "metadata": {},
   "source": [
    "# Importing Required Libraries"
   ]
  },
  {
   "cell_type": "code",
   "execution_count": null,
   "id": "8f580e91-4c32-49d2-8638-31a9d445e89d",
   "metadata": {},
   "outputs": [],
   "source": [
    "import pandas as pd\n",
    "import numpy as np\n",
    "import matplotlib.pyplot as plt\n",
    "from sklearn.linear_model import LinearRegression\n",
    "from sklearn.model_selection import train_test_split\n",
    "from sklearn.metrics import mean_squared_error, r2_score\n"
   ]
  },
  {
   "cell_type": "markdown",
   "id": "e5f4cac2-9366-4b38-84ec-f35a6565f510",
   "metadata": {},
   "source": [
    "# Loading and Understanding the Dataset"
   ]
  },
  {
   "cell_type": "code",
   "execution_count": 1,
   "id": "5a36f583-e465-4b08-b395-0d86a0ed9d75",
   "metadata": {},
   "outputs": [
    {
     "ename": "NameError",
     "evalue": "name 'pd' is not defined",
     "output_type": "error",
     "traceback": [
      "\u001b[1;31m---------------------------------------------------------------------------\u001b[0m",
      "\u001b[1;31mNameError\u001b[0m                                 Traceback (most recent call last)",
      "Cell \u001b[1;32mIn[1], line 2\u001b[0m\n\u001b[0;32m      1\u001b[0m \u001b[38;5;66;03m# Replace 'filename.csv' with the actual path to your CSV file\u001b[39;00m\n\u001b[1;32m----> 2\u001b[0m df \u001b[38;5;241m=\u001b[39m \u001b[43mpd\u001b[49m\u001b[38;5;241m.\u001b[39mread_csv(\u001b[38;5;124m'\u001b[39m\u001b[38;5;124mhousing.csv\u001b[39m\u001b[38;5;124m'\u001b[39m)\n\u001b[0;32m      4\u001b[0m \u001b[38;5;66;03m# To preview the first 5 rows\u001b[39;00m\n\u001b[0;32m      5\u001b[0m \u001b[38;5;28mprint\u001b[39m(df\u001b[38;5;241m.\u001b[39mhead(\u001b[38;5;241m5\u001b[39m))\n",
      "\u001b[1;31mNameError\u001b[0m: name 'pd' is not defined"
     ]
    }
   ],
   "source": [
    "# Replace 'filename.csv' with the actual path to your CSV file\n",
    "df = pd.read_csv('housing.csv')\n",
    "\n",
    "# To preview the first 5 rows\n",
    "print(df.head(5))\n",
    "print(df.tail(5))\n",
    "\n",
    "df.info()\n",
    "df.describe()"
   ]
  },
  {
   "cell_type": "markdown",
   "id": "102f8027-4412-4fe3-81a4-c66c3c809ff0",
   "metadata": {},
   "source": [
    "# Data Preprocessing"
   ]
  },
  {
   "cell_type": "code",
   "execution_count": null,
   "id": "c7fae5f9-2f5b-47d6-859a-d5955e7cdac3",
   "metadata": {},
   "outputs": [],
   "source": [
    "null_counts = df.isnull().sum()\n",
    "print(\"\\nNull values in each column:\\n\", null_counts)\n",
    "\n",
    "# Optional: Drop or fill null values (e.g., fill numeric with median)\n",
    "df_filled = df.fillna(df.median(numeric_only=True))\n",
    "\n",
    "#  Find out which are the numeric fields\n",
    "print(\"\\nNumeric Fields:\")\n",
    "print(numeric_cols.tolist())\n",
    "\n",
    "#  Analyze correlations between numeric features\n",
    "correlation_matrix = df[numeric_cols].corr()\n",
    "plt.figure(figsize=(12, 8))\n",
    "sns.heatmap(correlation_matrix, annot=True, cmap='coolwarm', fmt='.2f')\n",
    "plt.title(\"Correlation Matrix of Numeric Features\")\n",
    "plt.show()\n",
    "\n",
    "#  List categorical features\n",
    "categorical_cols = df.select_dtypes(include='object').columns\n",
    "print(\"\\nCategorical Features:\")\n",
    "print(categorical_cols.tolist())\n",
    "\n",
    "# Optional: Divide into nominal and ordinal if known\n",
    "nominal_features = ['Neighborhood', 'HouseStyle']  # example\n",
    "ordinal_features = ['OverallQual', 'ExterCond']    # example\n",
    "\n",
    "print(\"\\nNominal Features:\", nominal_features)\n",
    "print(\"Ordinal Features:\", ordinal_features)\n",
    "\n",
    "# Convert ordinal features to nominal using One-Hot Encoding\n",
    "\n",
    "# 1. Convert ordinal columns to string to treat them as nominal\n",
    "df_filled[ordinal_features] = df_filled[ordinal_features].astype(str)\n",
    "\n",
    "# 2. Apply One-Hot Encoding to ordinal features\n",
    "df_encoded = pd.get_dummies(df_filled, columns=ordinal_features)\n",
    "\n",
    "# 3. (Optional) Also encode nominal features if needed\n",
    "df_encoded = pd.get_dummies(df_encoded, columns=nominal_features)\n",
    "\n",
    "# Display the updated column names after encoding\n",
    "print(\"\\nData after One-Hot Encoding - Columns:\\n\", df_encoded.columns.tolist())"
   ]
  },
  {
   "cell_type": "markdown",
   "id": "7f80c206-4114-4e7b-8b30-70225c9e8e1b",
   "metadata": {},
   "source": [
    "# Splitting the Data"
   ]
  },
  {
   "cell_type": "code",
   "execution_count": null,
   "id": "06d7b6c1-e2e7-4426-ba7e-a38a87ef7d60",
   "metadata": {},
   "outputs": [],
   "source": [
    "X_train, X_test, y_train, y_test = train_test_split(X, y, test_size=0.2, random_state=42)\n"
   ]
  },
  {
   "cell_type": "markdown",
   "id": "205a4fac-80dd-485d-9215-5cd3cf7ce841",
   "metadata": {},
   "source": [
    "# Creating and Training the Model"
   ]
  },
  {
   "cell_type": "code",
   "execution_count": null,
   "id": "8d4317fc-e8e4-4121-8dcd-84104ddb0de9",
   "metadata": {},
   "outputs": [],
   "source": [
    "model = LinearRegression()\n",
    "model.fit(X_train, y_train)\n"
   ]
  },
  {
   "cell_type": "markdown",
   "id": "ec4fd9cc-fbc1-4684-8b45-dd22b6bdd948",
   "metadata": {},
   "source": [
    "#  Model Evaluation"
   ]
  },
  {
   "cell_type": "code",
   "execution_count": null,
   "id": "81cd1c2c-913c-478c-9f5b-61c862cafcf9",
   "metadata": {},
   "outputs": [],
   "source": [
    "#Predict on test data:\n",
    "y_pred = model.predict(X_test)\n"
   ]
  },
  {
   "cell_type": "code",
   "execution_count": null,
   "id": "b08e1107-98e2-4d7a-b389-68f9608ec2c6",
   "metadata": {},
   "outputs": [],
   "source": [
    "# Calculate evaluation metrics:\n",
    "print(\"R2 Score:\", r2_score(y_test, y_pred))\n",
    "print(\"MSE:\", mean_squared_error(y_test, y_pred))\n"
   ]
  },
  {
   "cell_type": "code",
   "execution_count": null,
   "id": "77f9b4ce-c756-444c-bfa3-8f29bf062533",
   "metadata": {},
   "outputs": [],
   "source": [
    "# Display coefficients and intercept:\n",
    "print(\"Coefficients:\", model.coef_)\n",
    "print(\"Intercept:\", model.intercept_)\n"
   ]
  },
  {
   "cell_type": "markdown",
   "id": "ccbe0d37-2be4-498d-8b96-f635119b235c",
   "metadata": {},
   "source": [
    "#  Visualization"
   ]
  },
  {
   "cell_type": "code",
   "execution_count": null,
   "id": "4deaa1b0-24be-4f5d-a949-89fd81f3d978",
   "metadata": {},
   "outputs": [],
   "source": [
    "# Plot actual vs predicted values:\n",
    "plt.scatter(y_test, y_pred)\n",
    "plt.xlabel(\"Actual\")\n",
    "plt.ylabel(\"Predicted\")\n",
    "plt.title(\"Actual vs Predicted\")\n",
    "plt.show()\n"
   ]
  }
 ],
 "metadata": {
  "kernelspec": {
   "display_name": "Python 3 (ipykernel)",
   "language": "python",
   "name": "python3"
  },
  "language_info": {
   "codemirror_mode": {
    "name": "ipython",
    "version": 3
   },
   "file_extension": ".py",
   "mimetype": "text/x-python",
   "name": "python",
   "nbconvert_exporter": "python",
   "pygments_lexer": "ipython3",
   "version": "3.12.4"
  }
 },
 "nbformat": 4,
 "nbformat_minor": 5
}
