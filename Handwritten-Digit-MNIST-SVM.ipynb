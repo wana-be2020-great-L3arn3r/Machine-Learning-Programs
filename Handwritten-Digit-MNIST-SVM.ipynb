{
 "cells": [
  {
   "cell_type": "markdown",
   "metadata": {},
   "source": [
    "## Handwritten Digit Recognition using MNIST Dataset using SVM Classifier"
   ]
  },
  {
   "cell_type": "code",
   "execution_count": 3,
   "metadata": {},
   "outputs": [],
   "source": [
    "# Import Libraries\n",
    "\n",
    "import pandas as pd\n",
    "import numpy as np\n",
    "import matplotlib as mpl\n",
    "import matplotlib.pyplot as plt"
   ]
  },
  {
   "cell_type": "markdown",
   "metadata": {},
   "source": [
    "### Handwritten Digit Recognition"
   ]
  },
  {
   "cell_type": "markdown",
   "metadata": {},
   "source": [
    "Use the sklearn.dataset load_digits() method. It loads the handwritten digits dataset.\n",
    "The returned data is in the form of a Dictionary. \n",
    "The 'data' attribute contains a flattenned array of 64 (each digit image is of 8*8 pixels) elements representing the digits. \n",
    "\n",
    "The 'target' attribute is the 'class' of Digit (0-9)\n",
    "Each individual digit is represented through a flattendded 64 digit array numbers of Greyscale values.\n",
    "There are 1797 samples in total and each class or digit has roughly 180 samples."
   ]
  },
  {
   "cell_type": "code",
   "execution_count": 4,
   "metadata": {},
   "outputs": [],
   "source": [
    "from sklearn.datasets import load_digits\n",
    "digits = load_digits(n_class=10)"
   ]
  },
  {
   "cell_type": "code",
   "execution_count": 5,
   "metadata": {},
   "outputs": [
    {
     "data": {
      "text/plain": [
       "{'data': array([[ 0.,  0.,  5., ...,  0.,  0.,  0.],\n",
       "        [ 0.,  0.,  0., ..., 10.,  0.,  0.],\n",
       "        [ 0.,  0.,  0., ..., 16.,  9.,  0.],\n",
       "        ...,\n",
       "        [ 0.,  0.,  1., ...,  6.,  0.,  0.],\n",
       "        [ 0.,  0.,  2., ..., 12.,  0.,  0.],\n",
       "        [ 0.,  0., 10., ..., 12.,  1.,  0.]], shape=(1797, 64)),\n",
       " 'target': array([0, 1, 2, ..., 8, 9, 8], shape=(1797,)),\n",
       " 'frame': None,\n",
       " 'feature_names': ['pixel_0_0',\n",
       "  'pixel_0_1',\n",
       "  'pixel_0_2',\n",
       "  'pixel_0_3',\n",
       "  'pixel_0_4',\n",
       "  'pixel_0_5',\n",
       "  'pixel_0_6',\n",
       "  'pixel_0_7',\n",
       "  'pixel_1_0',\n",
       "  'pixel_1_1',\n",
       "  'pixel_1_2',\n",
       "  'pixel_1_3',\n",
       "  'pixel_1_4',\n",
       "  'pixel_1_5',\n",
       "  'pixel_1_6',\n",
       "  'pixel_1_7',\n",
       "  'pixel_2_0',\n",
       "  'pixel_2_1',\n",
       "  'pixel_2_2',\n",
       "  'pixel_2_3',\n",
       "  'pixel_2_4',\n",
       "  'pixel_2_5',\n",
       "  'pixel_2_6',\n",
       "  'pixel_2_7',\n",
       "  'pixel_3_0',\n",
       "  'pixel_3_1',\n",
       "  'pixel_3_2',\n",
       "  'pixel_3_3',\n",
       "  'pixel_3_4',\n",
       "  'pixel_3_5',\n",
       "  'pixel_3_6',\n",
       "  'pixel_3_7',\n",
       "  'pixel_4_0',\n",
       "  'pixel_4_1',\n",
       "  'pixel_4_2',\n",
       "  'pixel_4_3',\n",
       "  'pixel_4_4',\n",
       "  'pixel_4_5',\n",
       "  'pixel_4_6',\n",
       "  'pixel_4_7',\n",
       "  'pixel_5_0',\n",
       "  'pixel_5_1',\n",
       "  'pixel_5_2',\n",
       "  'pixel_5_3',\n",
       "  'pixel_5_4',\n",
       "  'pixel_5_5',\n",
       "  'pixel_5_6',\n",
       "  'pixel_5_7',\n",
       "  'pixel_6_0',\n",
       "  'pixel_6_1',\n",
       "  'pixel_6_2',\n",
       "  'pixel_6_3',\n",
       "  'pixel_6_4',\n",
       "  'pixel_6_5',\n",
       "  'pixel_6_6',\n",
       "  'pixel_6_7',\n",
       "  'pixel_7_0',\n",
       "  'pixel_7_1',\n",
       "  'pixel_7_2',\n",
       "  'pixel_7_3',\n",
       "  'pixel_7_4',\n",
       "  'pixel_7_5',\n",
       "  'pixel_7_6',\n",
       "  'pixel_7_7'],\n",
       " 'target_names': array([0, 1, 2, 3, 4, 5, 6, 7, 8, 9]),\n",
       " 'images': array([[[ 0.,  0.,  5., ...,  1.,  0.,  0.],\n",
       "         [ 0.,  0., 13., ..., 15.,  5.,  0.],\n",
       "         [ 0.,  3., 15., ..., 11.,  8.,  0.],\n",
       "         ...,\n",
       "         [ 0.,  4., 11., ..., 12.,  7.,  0.],\n",
       "         [ 0.,  2., 14., ..., 12.,  0.,  0.],\n",
       "         [ 0.,  0.,  6., ...,  0.,  0.,  0.]],\n",
       " \n",
       "        [[ 0.,  0.,  0., ...,  5.,  0.,  0.],\n",
       "         [ 0.,  0.,  0., ...,  9.,  0.,  0.],\n",
       "         [ 0.,  0.,  3., ...,  6.,  0.,  0.],\n",
       "         ...,\n",
       "         [ 0.,  0.,  1., ...,  6.,  0.,  0.],\n",
       "         [ 0.,  0.,  1., ...,  6.,  0.,  0.],\n",
       "         [ 0.,  0.,  0., ..., 10.,  0.,  0.]],\n",
       " \n",
       "        [[ 0.,  0.,  0., ..., 12.,  0.,  0.],\n",
       "         [ 0.,  0.,  3., ..., 14.,  0.,  0.],\n",
       "         [ 0.,  0.,  8., ..., 16.,  0.,  0.],\n",
       "         ...,\n",
       "         [ 0.,  9., 16., ...,  0.,  0.,  0.],\n",
       "         [ 0.,  3., 13., ..., 11.,  5.,  0.],\n",
       "         [ 0.,  0.,  0., ..., 16.,  9.,  0.]],\n",
       " \n",
       "        ...,\n",
       " \n",
       "        [[ 0.,  0.,  1., ...,  1.,  0.,  0.],\n",
       "         [ 0.,  0., 13., ...,  2.,  1.,  0.],\n",
       "         [ 0.,  0., 16., ..., 16.,  5.,  0.],\n",
       "         ...,\n",
       "         [ 0.,  0., 16., ..., 15.,  0.,  0.],\n",
       "         [ 0.,  0., 15., ..., 16.,  0.,  0.],\n",
       "         [ 0.,  0.,  2., ...,  6.,  0.,  0.]],\n",
       " \n",
       "        [[ 0.,  0.,  2., ...,  0.,  0.,  0.],\n",
       "         [ 0.,  0., 14., ..., 15.,  1.,  0.],\n",
       "         [ 0.,  4., 16., ..., 16.,  7.,  0.],\n",
       "         ...,\n",
       "         [ 0.,  0.,  0., ..., 16.,  2.,  0.],\n",
       "         [ 0.,  0.,  4., ..., 16.,  2.,  0.],\n",
       "         [ 0.,  0.,  5., ..., 12.,  0.,  0.]],\n",
       " \n",
       "        [[ 0.,  0., 10., ...,  1.,  0.,  0.],\n",
       "         [ 0.,  2., 16., ...,  1.,  0.,  0.],\n",
       "         [ 0.,  0., 15., ..., 15.,  0.,  0.],\n",
       "         ...,\n",
       "         [ 0.,  4., 16., ..., 16.,  6.,  0.],\n",
       "         [ 0.,  8., 16., ..., 16.,  8.,  0.],\n",
       "         [ 0.,  1.,  8., ..., 12.,  1.,  0.]]], shape=(1797, 8, 8)),\n",
       " 'DESCR': \".. _digits_dataset:\\n\\nOptical recognition of handwritten digits dataset\\n--------------------------------------------------\\n\\n**Data Set Characteristics:**\\n\\n:Number of Instances: 1797\\n:Number of Attributes: 64\\n:Attribute Information: 8x8 image of integer pixels in the range 0..16.\\n:Missing Attribute Values: None\\n:Creator: E. Alpaydin (alpaydin '@' boun.edu.tr)\\n:Date: July; 1998\\n\\nThis is a copy of the test set of the UCI ML hand-written digits datasets\\nhttps://archive.ics.uci.edu/ml/datasets/Optical+Recognition+of+Handwritten+Digits\\n\\nThe data set contains images of hand-written digits: 10 classes where\\neach class refers to a digit.\\n\\nPreprocessing programs made available by NIST were used to extract\\nnormalized bitmaps of handwritten digits from a preprinted form. From a\\ntotal of 43 people, 30 contributed to the training set and different 13\\nto the test set. 32x32 bitmaps are divided into nonoverlapping blocks of\\n4x4 and the number of on pixels are counted in each block. This generates\\nan input matrix of 8x8 where each element is an integer in the range\\n0..16. This reduces dimensionality and gives invariance to small\\ndistortions.\\n\\nFor info on NIST preprocessing routines, see M. D. Garris, J. L. Blue, G.\\nT. Candela, D. L. Dimmick, J. Geist, P. J. Grother, S. A. Janet, and C.\\nL. Wilson, NIST Form-Based Handprint Recognition System, NISTIR 5469,\\n1994.\\n\\n.. dropdown:: References\\n\\n  - C. Kaynak (1995) Methods of Combining Multiple Classifiers and Their\\n    Applications to Handwritten Digit Recognition, MSc Thesis, Institute of\\n    Graduate Studies in Science and Engineering, Bogazici University.\\n  - E. Alpaydin, C. Kaynak (1998) Cascading Classifiers, Kybernetika.\\n  - Ken Tang and Ponnuthurai N. Suganthan and Xi Yao and A. Kai Qin.\\n    Linear dimensionalityreduction using relevance weighted LDA. School of\\n    Electrical and Electronic Engineering Nanyang Technological University.\\n    2005.\\n  - Claudio Gentile. A New Approximate Maximal Margin Classification\\n    Algorithm. NIPS. 2000.\\n\"}"
      ]
     },
     "execution_count": 5,
     "metadata": {},
     "output_type": "execute_result"
    }
   ],
   "source": [
    "digits"
   ]
  },
  {
   "cell_type": "code",
   "execution_count": 6,
   "metadata": {},
   "outputs": [
    {
     "data": {
      "text/plain": [
       "array([[ 0.,  0.,  5., 13.,  9.,  1.,  0.,  0.],\n",
       "       [ 0.,  0., 13., 15., 10., 15.,  5.,  0.],\n",
       "       [ 0.,  3., 15.,  2.,  0., 11.,  8.,  0.],\n",
       "       [ 0.,  4., 12.,  0.,  0.,  8.,  8.,  0.],\n",
       "       [ 0.,  5.,  8.,  0.,  0.,  9.,  8.,  0.],\n",
       "       [ 0.,  4., 11.,  0.,  1., 12.,  7.,  0.],\n",
       "       [ 0.,  2., 14.,  5., 10., 12.,  0.,  0.],\n",
       "       [ 0.,  0.,  6., 13., 10.,  0.,  0.,  0.]])"
      ]
     },
     "execution_count": 6,
     "metadata": {},
     "output_type": "execute_result"
    }
   ],
   "source": [
    "digits['data'][0].reshape(8,8)"
   ]
  },
  {
   "cell_type": "code",
   "execution_count": 7,
   "metadata": {},
   "outputs": [
    {
     "data": {
      "text/plain": [
       "array([ 0.,  0.,  5., 13.,  9.,  1.,  0.,  0.,  0.,  0., 13., 15., 10.,\n",
       "       15.,  5.,  0.,  0.,  3., 15.,  2.,  0., 11.,  8.,  0.,  0.,  4.,\n",
       "       12.,  0.,  0.,  8.,  8.,  0.,  0.,  5.,  8.,  0.,  0.,  9.,  8.,\n",
       "        0.,  0.,  4., 11.,  0.,  1., 12.,  7.,  0.,  0.,  2., 14.,  5.,\n",
       "       10., 12.,  0.,  0.,  0.,  0.,  6., 13., 10.,  0.,  0.,  0.])"
      ]
     },
     "execution_count": 7,
     "metadata": {},
     "output_type": "execute_result"
    }
   ],
   "source": [
    "digits['data'][0]"
   ]
  },
  {
   "cell_type": "code",
   "execution_count": 8,
   "metadata": {},
   "outputs": [
    {
     "data": {
      "text/plain": [
       "array([[ 0.,  0.,  0., 12., 13.,  5.,  0.,  0.],\n",
       "       [ 0.,  0.,  0., 11., 16.,  9.,  0.,  0.],\n",
       "       [ 0.,  0.,  3., 15., 16.,  6.,  0.,  0.],\n",
       "       [ 0.,  7., 15., 16., 16.,  2.,  0.,  0.],\n",
       "       [ 0.,  0.,  1., 16., 16.,  3.,  0.,  0.],\n",
       "       [ 0.,  0.,  1., 16., 16.,  6.,  0.,  0.],\n",
       "       [ 0.,  0.,  1., 16., 16.,  6.,  0.,  0.],\n",
       "       [ 0.,  0.,  0., 11., 16., 10.,  0.,  0.]])"
      ]
     },
     "execution_count": 8,
     "metadata": {},
     "output_type": "execute_result"
    }
   ],
   "source": [
    "digits['images'][1]"
   ]
  },
  {
   "cell_type": "code",
   "execution_count": 9,
   "metadata": {},
   "outputs": [
    {
     "data": {
      "text/plain": [
       "array([0, 1, 2, 3, 4, 5, 6, 7, 8])"
      ]
     },
     "execution_count": 9,
     "metadata": {},
     "output_type": "execute_result"
    }
   ],
   "source": [
    "digits['target'][0:9]"
   ]
  },
  {
   "cell_type": "code",
   "execution_count": 10,
   "metadata": {},
   "outputs": [
    {
     "data": {
      "text/plain": [
       "np.int64(0)"
      ]
     },
     "execution_count": 10,
     "metadata": {},
     "output_type": "execute_result"
    }
   ],
   "source": [
    "digits['target'][0]"
   ]
  },
  {
   "cell_type": "code",
   "execution_count": 11,
   "metadata": {},
   "outputs": [
    {
     "data": {
      "text/plain": [
       "array([[ 0.,  0.,  5., 13.,  9.,  1.,  0.,  0.],\n",
       "       [ 0.,  0., 13., 15., 10., 15.,  5.,  0.],\n",
       "       [ 0.,  3., 15.,  2.,  0., 11.,  8.,  0.],\n",
       "       [ 0.,  4., 12.,  0.,  0.,  8.,  8.,  0.],\n",
       "       [ 0.,  5.,  8.,  0.,  0.,  9.,  8.,  0.],\n",
       "       [ 0.,  4., 11.,  0.,  1., 12.,  7.,  0.],\n",
       "       [ 0.,  2., 14.,  5., 10., 12.,  0.,  0.],\n",
       "       [ 0.,  0.,  6., 13., 10.,  0.,  0.,  0.]])"
      ]
     },
     "execution_count": 11,
     "metadata": {},
     "output_type": "execute_result"
    }
   ],
   "source": [
    "digits.images[0]"
   ]
  },
  {
   "cell_type": "code",
   "execution_count": 12,
   "metadata": {},
   "outputs": [
    {
     "data": {
      "image/png": "[encoded data removed]",
      "text/plain": [
       "<Figure size 1000x1000 with 64 Axes>"
      ]
     },
     "metadata": {},
     "output_type": "display_data"
    }
   ],
   "source": [
    "# Each Digit is represented in digits.images as a matrix of 8x8 = 64 pixels. Each of the 64 values represent\n",
    "# a greyscale. The Greyscale are then plotted in the right scale by the imshow method. \n",
    "\n",
    "fig, ax = plt.subplots(8,8, figsize=(10,10))\n",
    "for i, axi in enumerate(ax.flat):\n",
    "    axi.imshow(digits.images[i], cmap='binary')\n",
    "    axi.set(xticks=[], yticks=[])"
   ]
  },
  {
   "cell_type": "code",
   "execution_count": 13,
   "metadata": {},
   "outputs": [
    {
     "name": "stderr",
     "output_type": "stream",
     "text": [
      "C:\\Users\\HP\\AppData\\Local\\Programs\\Python\\Python313\\Lib\\site-packages\\sklearn\\manifold\\_isomap.py:384: UserWarning: The number of connected components of the neighbors graph is 2 > 1. Completing the graph to fit Isomap might be slow. Increase the number of neighbors to avoid this issue.\n",
      "  self._fit_transform(X)\n",
      "C:\\Users\\HP\\AppData\\Local\\Programs\\Python\\Python313\\Lib\\site-packages\\scipy\\sparse\\_index.py:168: SparseEfficiencyWarning: Changing the sparsity structure of a csr_matrix is expensive. lil and dok are more efficient.\n",
      "  self._set_intXint(row, col, x.flat[0])\n"
     ]
    },
    {
     "data": {
      "image/png": "[encoded data removed]",
      "text/plain": [
       "<Figure size 640x480 with 2 Axes>"
      ]
     },
     "metadata": {},
     "output_type": "display_data"
    }
   ],
   "source": [
    "# Plotting - Clustering the data points after using Manifold Learning   \n",
    "\n",
    "from sklearn.manifold import Isomap\n",
    "\n",
    "iso = Isomap(n_components=2)\n",
    "\n",
    "projection = iso.fit_transform(digits.data)     # digits.data - 64 dimensions to 2 dimensions\n",
    "\n",
    "plt.scatter(projection[:, 0], projection[:, 1], c=digits.target, cmap=\"viridis\")\n",
    "\n",
    "plt.colorbar(ticks=range(10), label='Digits Value')\n",
    "plt.clim(-0.5, 5.5)"
   ]
  },
  {
   "cell_type": "code",
   "execution_count": 14,
   "metadata": {},
   "outputs": [
    {
     "name": "stdout",
     "output_type": "stream",
     "text": [
      "-56.87774951630182 62.08657097686827\n"
     ]
    }
   ],
   "source": [
    "print(projection[:, 0][70], projection[:, 1][70])"
   ]
  },
  {
   "cell_type": "code",
   "execution_count": 15,
   "metadata": {},
   "outputs": [],
   "source": [
    "def view_digit(index):\n",
    "    plt.imshow(digits.images[index] , cmap = plt.cm.gray_r)\n",
    "    plt.title('Orignal it is: '+ str(digits.target[index]))\n",
    "    plt.show()"
   ]
  },
  {
   "cell_type": "code",
   "execution_count": 22,
   "metadata": {},
   "outputs": [
    {
     "data": {
      "image/png": "[encoded data removed]",
      "text/plain": [
       "<Figure size 640x480 with 1 Axes>"
      ]
     },
     "metadata": {},
     "output_type": "display_data"
    }
   ],
   "source": [
    "view_digit(3)\n"
   ]
  },
  {
   "cell_type": "markdown",
   "metadata": {},
   "source": [
    "### Use the Support Vector Machine Classifier to train the Data\n",
    "Use part of the data for train and part of the data for test (predicion)"
   ]
  },
  {
   "cell_type": "code",
   "execution_count": 17,
   "metadata": {},
   "outputs": [],
   "source": [
    "main_data = digits['data']\n",
    "targets = digits['target']"
   ]
  },
  {
   "cell_type": "code",
   "execution_count": 18,
   "metadata": {},
   "outputs": [
    {
     "data": {
      "text/plain": [
       "[(np.int64(7), np.int64(7)),\n",
       " (np.int64(4), np.int64(4)),\n",
       " (np.int64(6), np.int64(6)),\n",
       " (np.int64(3), np.int64(3)),\n",
       " (np.int64(1), np.int64(1)),\n",
       " (np.int64(3), np.int64(3)),\n",
       " (np.int64(9), np.int64(9)),\n",
       " (np.int64(1), np.int64(1)),\n",
       " (np.int64(7), np.int64(7)),\n",
       " (np.int64(6), np.int64(6)),\n",
       " (np.int64(8), np.int64(8)),\n",
       " (np.int64(4), np.int64(4)),\n",
       " (np.int64(3), np.int64(3)),\n",
       " (np.int64(1), np.int64(1)),\n",
       " (np.int64(4), np.int64(4)),\n",
       " (np.int64(0), np.int64(0)),\n",
       " (np.int64(5), np.int64(5)),\n",
       " (np.int64(3), np.int64(3)),\n",
       " (np.int64(6), np.int64(6)),\n",
       " (np.int64(9), np.int64(9)),\n",
       " (np.int64(6), np.int64(6)),\n",
       " (np.int64(1), np.int64(1)),\n",
       " (np.int64(7), np.int64(7)),\n",
       " (np.int64(5), np.int64(5)),\n",
       " (np.int64(4), np.int64(4)),\n",
       " (np.int64(4), np.int64(4)),\n",
       " (np.int64(7), np.int64(7)),\n",
       " (np.int64(2), np.int64(2)),\n",
       " (np.int64(8), np.int64(8)),\n",
       " (np.int64(2), np.int64(2)),\n",
       " (np.int64(2), np.int64(2)),\n",
       " (np.int64(5), np.int64(5)),\n",
       " (np.int64(7), np.int64(7)),\n",
       " (np.int64(9), np.int64(9)),\n",
       " (np.int64(5), np.int64(5)),\n",
       " (np.int64(4), np.int64(4)),\n",
       " (np.int64(8), np.int64(8)),\n",
       " (np.int64(8), np.int64(8)),\n",
       " (np.int64(4), np.int64(4)),\n",
       " (np.int64(9), np.int64(9)),\n",
       " (np.int64(0), np.int64(0)),\n",
       " (np.int64(8), np.int64(8)),\n",
       " (np.int64(9), np.int64(9)),\n",
       " (np.int64(8), np.int64(8)),\n",
       " (np.int64(0), np.int64(0)),\n",
       " (np.int64(1), np.int64(1)),\n",
       " (np.int64(2), np.int64(2)),\n",
       " (np.int64(3), np.int64(3)),\n",
       " (np.int64(4), np.int64(4)),\n",
       " (np.int64(5), np.int64(5)),\n",
       " (np.int64(6), np.int64(6)),\n",
       " (np.int64(7), np.int64(7)),\n",
       " (np.int64(1), np.int64(8)),\n",
       " (np.int64(9), np.int64(9)),\n",
       " (np.int64(0), np.int64(0)),\n",
       " (np.int64(1), np.int64(1)),\n",
       " (np.int64(2), np.int64(2)),\n",
       " (np.int64(3), np.int64(3)),\n",
       " (np.int64(4), np.int64(4)),\n",
       " (np.int64(5), np.int64(5)),\n",
       " (np.int64(6), np.int64(6)),\n",
       " (np.int64(9), np.int64(9)),\n",
       " (np.int64(0), np.int64(0)),\n",
       " (np.int64(1), np.int64(1)),\n",
       " (np.int64(2), np.int64(2)),\n",
       " (np.int64(3), np.int64(3)),\n",
       " (np.int64(4), np.int64(4)),\n",
       " (np.int64(5), np.int64(5)),\n",
       " (np.int64(6), np.int64(6)),\n",
       " (np.int64(7), np.int64(7)),\n",
       " (np.int64(1), np.int64(8)),\n",
       " (np.int64(9), np.int64(9)),\n",
       " (np.int64(4), np.int64(0)),\n",
       " (np.int64(9), np.int64(9)),\n",
       " (np.int64(5), np.int64(5)),\n",
       " (np.int64(5), np.int64(5)),\n",
       " (np.int64(6), np.int64(6)),\n",
       " (np.int64(5), np.int64(5)),\n",
       " (np.int64(0), np.int64(0)),\n",
       " (np.int64(9), np.int64(9)),\n",
       " (np.int64(8), np.int64(8)),\n",
       " (np.int64(9), np.int64(9)),\n",
       " (np.int64(8), np.int64(8)),\n",
       " (np.int64(4), np.int64(4)),\n",
       " (np.int64(1), np.int64(1)),\n",
       " (np.int64(7), np.int64(7)),\n",
       " (np.int64(7), np.int64(7)),\n",
       " (np.int64(3), np.int64(3)),\n",
       " (np.int64(5), np.int64(5)),\n",
       " (np.int64(1), np.int64(1)),\n",
       " (np.int64(0), np.int64(0)),\n",
       " (np.int64(0), np.int64(0)),\n",
       " (np.int64(2), np.int64(2)),\n",
       " (np.int64(2), np.int64(2)),\n",
       " (np.int64(7), np.int64(7)),\n",
       " (np.int64(8), np.int64(8)),\n",
       " (np.int64(2), np.int64(2)),\n",
       " (np.int64(0), np.int64(0)),\n",
       " (np.int64(1), np.int64(1)),\n",
       " (np.int64(2), np.int64(2)),\n",
       " (np.int64(6), np.int64(6)),\n",
       " (np.int64(8), np.int64(3)),\n",
       " (np.int64(3), np.int64(3)),\n",
       " (np.int64(7), np.int64(7)),\n",
       " (np.int64(3), np.int64(3)),\n",
       " (np.int64(3), np.int64(3)),\n",
       " (np.int64(4), np.int64(4)),\n",
       " (np.int64(6), np.int64(6)),\n",
       " (np.int64(6), np.int64(6)),\n",
       " (np.int64(6), np.int64(6)),\n",
       " (np.int64(9), np.int64(4)),\n",
       " (np.int64(9), np.int64(9)),\n",
       " (np.int64(1), np.int64(1)),\n",
       " (np.int64(5), np.int64(5)),\n",
       " (np.int64(0), np.int64(0)),\n",
       " (np.int64(9), np.int64(9)),\n",
       " (np.int64(5), np.int64(5)),\n",
       " (np.int64(2), np.int64(2)),\n",
       " (np.int64(8), np.int64(8)),\n",
       " (np.int64(0), np.int64(0)),\n",
       " (np.int64(1), np.int64(1)),\n",
       " (np.int64(7), np.int64(7)),\n",
       " (np.int64(6), np.int64(6)),\n",
       " (np.int64(3), np.int64(3)),\n",
       " (np.int64(2), np.int64(2)),\n",
       " (np.int64(1), np.int64(1)),\n",
       " (np.int64(7), np.int64(7)),\n",
       " (np.int64(9), np.int64(4)),\n",
       " (np.int64(6), np.int64(6)),\n",
       " (np.int64(3), np.int64(3)),\n",
       " (np.int64(1), np.int64(1)),\n",
       " (np.int64(3), np.int64(3)),\n",
       " (np.int64(9), np.int64(9)),\n",
       " (np.int64(1), np.int64(1)),\n",
       " (np.int64(7), np.int64(7)),\n",
       " (np.int64(6), np.int64(6)),\n",
       " (np.int64(8), np.int64(8)),\n",
       " (np.int64(4), np.int64(4)),\n",
       " (np.int64(3), np.int64(3)),\n",
       " (np.int64(1), np.int64(1)),\n",
       " (np.int64(4), np.int64(4)),\n",
       " (np.int64(0), np.int64(0)),\n",
       " (np.int64(5), np.int64(5)),\n",
       " (np.int64(3), np.int64(3)),\n",
       " (np.int64(6), np.int64(6)),\n",
       " (np.int64(9), np.int64(9)),\n",
       " (np.int64(6), np.int64(6)),\n",
       " (np.int64(1), np.int64(1)),\n",
       " (np.int64(7), np.int64(7)),\n",
       " (np.int64(5), np.int64(5)),\n",
       " (np.int64(4), np.int64(4)),\n",
       " (np.int64(4), np.int64(4)),\n",
       " (np.int64(7), np.int64(7)),\n",
       " (np.int64(2), np.int64(2)),\n",
       " (np.int64(2), np.int64(2)),\n",
       " (np.int64(5), np.int64(5)),\n",
       " (np.int64(7), np.int64(7)),\n",
       " (np.int64(8), np.int64(9)),\n",
       " (np.int64(5), np.int64(5)),\n",
       " (np.int64(9), np.int64(4)),\n",
       " (np.int64(4), np.int64(4)),\n",
       " (np.int64(5), np.int64(9)),\n",
       " (np.int64(0), np.int64(0)),\n",
       " (np.int64(8), np.int64(8)),\n",
       " (np.int64(9), np.int64(9)),\n",
       " (np.int64(8), np.int64(8)),\n",
       " (np.int64(0), np.int64(0)),\n",
       " (np.int64(1), np.int64(1)),\n",
       " (np.int64(2), np.int64(2)),\n",
       " (np.int64(3), np.int64(3)),\n",
       " (np.int64(4), np.int64(4)),\n",
       " (np.int64(5), np.int64(5)),\n",
       " (np.int64(6), np.int64(6)),\n",
       " (np.int64(7), np.int64(7)),\n",
       " (np.int64(8), np.int64(8)),\n",
       " (np.int64(9), np.int64(9)),\n",
       " (np.int64(0), np.int64(0)),\n",
       " (np.int64(1), np.int64(1)),\n",
       " (np.int64(2), np.int64(2)),\n",
       " (np.int64(3), np.int64(3)),\n",
       " (np.int64(4), np.int64(4)),\n",
       " (np.int64(5), np.int64(5)),\n",
       " (np.int64(6), np.int64(6)),\n",
       " (np.int64(7), np.int64(7)),\n",
       " (np.int64(8), np.int64(8)),\n",
       " (np.int64(9), np.int64(9)),\n",
       " (np.int64(0), np.int64(0)),\n",
       " (np.int64(1), np.int64(1)),\n",
       " (np.int64(2), np.int64(2)),\n",
       " (np.int64(8), np.int64(3)),\n",
       " (np.int64(4), np.int64(4)),\n",
       " (np.int64(5), np.int64(5)),\n",
       " (np.int64(6), np.int64(6)),\n",
       " (np.int64(7), np.int64(7)),\n",
       " (np.int64(8), np.int64(8)),\n",
       " (np.int64(9), np.int64(9)),\n",
       " (np.int64(0), np.int64(0)),\n",
       " (np.int64(9), np.int64(9)),\n",
       " (np.int64(5), np.int64(5)),\n",
       " (np.int64(5), np.int64(5)),\n",
       " (np.int64(6), np.int64(6)),\n",
       " (np.int64(5), np.int64(5)),\n",
       " (np.int64(0), np.int64(0)),\n",
       " (np.int64(9), np.int64(9)),\n",
       " (np.int64(8), np.int64(8)),\n",
       " (np.int64(9), np.int64(9)),\n",
       " (np.int64(8), np.int64(8)),\n",
       " (np.int64(4), np.int64(4)),\n",
       " (np.int64(1), np.int64(1)),\n",
       " (np.int64(7), np.int64(7)),\n",
       " (np.int64(7), np.int64(7)),\n",
       " (np.int64(3), np.int64(3)),\n",
       " (np.int64(5), np.int64(5)),\n",
       " (np.int64(1), np.int64(1)),\n",
       " (np.int64(0), np.int64(0)),\n",
       " (np.int64(0), np.int64(0)),\n",
       " (np.int64(2), np.int64(2)),\n",
       " (np.int64(2), np.int64(2)),\n",
       " (np.int64(7), np.int64(7)),\n",
       " (np.int64(8), np.int64(8)),\n",
       " (np.int64(2), np.int64(2)),\n",
       " (np.int64(0), np.int64(0)),\n",
       " (np.int64(1), np.int64(1)),\n",
       " (np.int64(2), np.int64(2)),\n",
       " (np.int64(6), np.int64(6)),\n",
       " (np.int64(8), np.int64(3)),\n",
       " (np.int64(8), np.int64(3)),\n",
       " (np.int64(7), np.int64(7)),\n",
       " (np.int64(5), np.int64(3)),\n",
       " (np.int64(3), np.int64(3)),\n",
       " (np.int64(4), np.int64(4)),\n",
       " (np.int64(6), np.int64(6)),\n",
       " (np.int64(6), np.int64(6)),\n",
       " (np.int64(6), np.int64(6)),\n",
       " (np.int64(4), np.int64(4)),\n",
       " (np.int64(9), np.int64(9)),\n",
       " (np.int64(1), np.int64(1)),\n",
       " (np.int64(5), np.int64(5)),\n",
       " (np.int64(0), np.int64(0)),\n",
       " (np.int64(9), np.int64(9)),\n",
       " (np.int64(5), np.int64(5)),\n",
       " (np.int64(2), np.int64(2)),\n",
       " (np.int64(8), np.int64(8)),\n",
       " (np.int64(2), np.int64(2)),\n",
       " (np.int64(0), np.int64(0)),\n",
       " (np.int64(0), np.int64(0)),\n",
       " (np.int64(1), np.int64(1)),\n",
       " (np.int64(7), np.int64(7)),\n",
       " (np.int64(6), np.int64(6)),\n",
       " (np.int64(3), np.int64(3)),\n",
       " (np.int64(2), np.int64(2)),\n",
       " (np.int64(1), np.int64(1)),\n",
       " (np.int64(7), np.int64(7)),\n",
       " (np.int64(4), np.int64(4)),\n",
       " (np.int64(6), np.int64(6)),\n",
       " (np.int64(3), np.int64(3)),\n",
       " (np.int64(1), np.int64(1)),\n",
       " (np.int64(3), np.int64(3)),\n",
       " (np.int64(9), np.int64(9)),\n",
       " (np.int64(1), np.int64(1)),\n",
       " (np.int64(7), np.int64(7)),\n",
       " (np.int64(6), np.int64(6)),\n",
       " (np.int64(8), np.int64(8)),\n",
       " (np.int64(4), np.int64(4)),\n",
       " (np.int64(5), np.int64(3)),\n",
       " (np.int64(1), np.int64(1)),\n",
       " (np.int64(4), np.int64(4)),\n",
       " (np.int64(0), np.int64(0)),\n",
       " (np.int64(5), np.int64(5)),\n",
       " (np.int64(3), np.int64(3)),\n",
       " (np.int64(6), np.int64(6)),\n",
       " (np.int64(9), np.int64(9)),\n",
       " (np.int64(6), np.int64(6)),\n",
       " (np.int64(1), np.int64(1)),\n",
       " (np.int64(7), np.int64(7)),\n",
       " (np.int64(5), np.int64(5)),\n",
       " (np.int64(4), np.int64(4)),\n",
       " (np.int64(4), np.int64(4)),\n",
       " (np.int64(7), np.int64(7)),\n",
       " (np.int64(2), np.int64(2)),\n",
       " (np.int64(8), np.int64(8)),\n",
       " (np.int64(2), np.int64(2)),\n",
       " (np.int64(2), np.int64(2)),\n",
       " (np.int64(5), np.int64(5)),\n",
       " (np.int64(7), np.int64(7)),\n",
       " (np.int64(9), np.int64(9)),\n",
       " (np.int64(5), np.int64(5)),\n",
       " (np.int64(4), np.int64(4)),\n",
       " (np.int64(8), np.int64(8)),\n",
       " (np.int64(8), np.int64(8)),\n",
       " (np.int64(4), np.int64(4)),\n",
       " (np.int64(9), np.int64(9)),\n",
       " (np.int64(0), np.int64(0)),\n",
       " (np.int64(8), np.int64(8)),\n",
       " (np.int64(9), np.int64(9)),\n",
       " (np.int64(8), np.int64(8))]"
      ]
     },
     "execution_count": 18,
     "metadata": {},
     "output_type": "execute_result"
    }
   ],
   "source": [
    "from sklearn import svm\n",
    "\n",
    "svc = svm.SVC(gamma=0.001 , C = 100)    \n",
    "\n",
    "# GAMMA is a parameter for non linear hyperplanes. \n",
    "# The higher the gamma value it tries to exactly fit the training data set\n",
    "# C is the penalty parameter of the error term. \n",
    "# It controls the trade off between smooth decision boundary and classifying the training points correctly.\n",
    "\n",
    "svc.fit(main_data[:1500] , targets[:1500])   \n",
    "\n",
    "predictions = svc.predict(main_data[1501:])  \n",
    "\n",
    "list(zip(predictions , targets[1501:]))"
   ]
  },
  {
   "cell_type": "markdown",
   "metadata": {},
   "source": [
    "### Create the Confusion Matrix for Performance Evaluation"
   ]
  },
  {
   "cell_type": "code",
   "execution_count": 19,
   "metadata": {},
   "outputs": [
    {
     "data": {
      "image/png": "[encoded data removed]",
      "text/plain": [
       "<Figure size 800x500 with 2 Axes>"
      ]
     },
     "metadata": {},
     "output_type": "display_data"
    }
   ],
   "source": [
    "from sklearn.metrics import confusion_matrix\n",
    "import seaborn as sns\n",
    "\n",
    "cm = confusion_matrix(predictions, targets[1501:])\n",
    "\n",
    "conf_matrix = pd.DataFrame(data = cm)\n",
    "\n",
    "plt.figure(figsize = (8,5))\n",
    "\n",
    "sns.heatmap(conf_matrix, annot=True,fmt='d',cmap=\"YlGnBu\");"
   ]
  },
  {
   "cell_type": "code",
   "execution_count": 20,
   "metadata": {},
   "outputs": [
    {
     "data": {
      "text/plain": [
       "array([[26,  0,  0,  0,  0,  0,  0,  0,  0,  0],\n",
       "       [ 0, 30,  0,  0,  0,  0,  0,  0,  2,  0],\n",
       "       [ 0,  0, 27,  0,  0,  0,  0,  0,  0,  0],\n",
       "       [ 0,  0,  0, 24,  0,  0,  0,  0,  0,  0],\n",
       "       [ 1,  0,  0,  0, 30,  0,  0,  0,  0,  0],\n",
       "       [ 0,  0,  0,  2,  0, 30,  0,  0,  0,  1],\n",
       "       [ 0,  0,  0,  0,  0,  0, 30,  0,  0,  0],\n",
       "       [ 0,  0,  0,  0,  0,  0,  0, 30,  0,  0],\n",
       "       [ 0,  0,  0,  4,  0,  0,  0,  0, 26,  1],\n",
       "       [ 0,  0,  0,  0,  3,  0,  0,  0,  0, 29]])"
      ]
     },
     "execution_count": 20,
     "metadata": {},
     "output_type": "execute_result"
    }
   ],
   "source": [
    "cm"
   ]
  },
  {
   "cell_type": "markdown",
   "metadata": {},
   "source": [
    "### Print the Classification Report"
   ]
  },
  {
   "cell_type": "code",
   "execution_count": 21,
   "metadata": {},
   "outputs": [
    {
     "name": "stdout",
     "output_type": "stream",
     "text": [
      "              precision    recall  f1-score   support\n",
      "\n",
      "           0       0.96      1.00      0.98        26\n",
      "           1       1.00      0.94      0.97        32\n",
      "           2       1.00      1.00      1.00        27\n",
      "           3       0.80      1.00      0.89        24\n",
      "           4       0.91      0.97      0.94        31\n",
      "           5       1.00      0.91      0.95        33\n",
      "           6       1.00      1.00      1.00        30\n",
      "           7       1.00      1.00      1.00        30\n",
      "           8       0.93      0.84      0.88        31\n",
      "           9       0.94      0.91      0.92        32\n",
      "\n",
      "    accuracy                           0.95       296\n",
      "   macro avg       0.95      0.96      0.95       296\n",
      "weighted avg       0.96      0.95      0.95       296\n",
      "\n"
     ]
    }
   ],
   "source": [
    "from sklearn.metrics import classification_report\n",
    "\n",
    "print(classification_report(predictions, targets[1501:]))"
   ]
  },
  {
   "cell_type": "code",
   "execution_count": null,
   "metadata": {},
   "outputs": [],
   "source": []
  },
  {
   "cell_type": "code",
   "execution_count": null,
   "metadata": {},
   "outputs": [],
   "source": []
  },
  {
   "cell_type": "code",
   "execution_count": null,
   "metadata": {},
   "outputs": [],
   "source": []
  },
  {
   "cell_type": "code",
   "execution_count": null,
   "metadata": {},
   "outputs": [],
   "source": []
  },
  {
   "cell_type": "code",
   "execution_count": null,
   "metadata": {},
   "outputs": [],
   "source": []
  },
  {
   "cell_type": "code",
   "execution_count": null,
   "metadata": {},
   "outputs": [],
   "source": []
  },
  {
   "cell_type": "code",
   "execution_count": null,
   "metadata": {},
   "outputs": [],
   "source": []
  },
  {
   "cell_type": "code",
   "execution_count": null,
   "metadata": {},
   "outputs": [],
   "source": []
  }
 ],
 "metadata": {
  "kernelspec": {
   "display_name": "Python 3 (ipykernel)",
   "language": "python",
   "name": "python3"
  },
  "language_info": {
   "codemirror_mode": {
    "name": "ipython",
    "version": 3
   },
   "file_extension": ".py",
   "mimetype": "text/x-python",
   "name": "python",
   "nbconvert_exporter": "python",
   "pygments_lexer": "ipython3",
   "version": "3.13.3"
  }
 },
 "nbformat": 4,
 "nbformat_minor": 4
}
